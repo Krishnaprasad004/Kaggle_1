{
 "cells": [
  {
   "cell_type": "code",
   "execution_count": 69,
   "id": "a1e5ba54-2c53-4fca-82dc-9aba215cd566",
   "metadata": {},
   "outputs": [],
   "source": [
    "import pandas as pd"
   ]
  },
  {
   "cell_type": "code",
   "execution_count": 71,
   "id": "14767c0c-510d-40eb-b4ad-404ba14568bd",
   "metadata": {},
   "outputs": [],
   "source": [
    "df=pd.read_csv(\"mark_sheet_dataset.csv\")"
   ]
  },
  {
   "cell_type": "code",
   "execution_count": 73,
   "id": "05ef60e6-844a-4ba1-9118-9f04b537c384",
   "metadata": {},
   "outputs": [
    {
     "name": "stdout",
     "output_type": "stream",
     "text": [
      "<class 'pandas.core.frame.DataFrame'>\n",
      "RangeIndex: 1005 entries, 0 to 1004\n",
      "Data columns (total 6 columns):\n",
      " #   Column         Non-Null Count  Dtype  \n",
      "---  ------         --------------  -----  \n",
      " 0   Student_ID     1005 non-null   object \n",
      " 1   Gender         1005 non-null   object \n",
      " 2   Math_Score     1004 non-null   float64\n",
      " 3   English_Score  1004 non-null   float64\n",
      " 4   Science_Score  1004 non-null   float64\n",
      " 5   Attendance     1004 non-null   float64\n",
      "dtypes: float64(4), object(2)\n",
      "memory usage: 47.2+ KB\n"
     ]
    }
   ],
   "source": [
    "df.info()"
   ]
  },
  {
   "cell_type": "code",
   "execution_count": 75,
   "id": "b3147518-5bce-43c8-a888-9255584b7726",
   "metadata": {},
   "outputs": [
    {
     "data": {
      "text/html": [
       "<div>\n",
       "<style scoped>\n",
       "    .dataframe tbody tr th:only-of-type {\n",
       "        vertical-align: middle;\n",
       "    }\n",
       "\n",
       "    .dataframe tbody tr th {\n",
       "        vertical-align: top;\n",
       "    }\n",
       "\n",
       "    .dataframe thead th {\n",
       "        text-align: right;\n",
       "    }\n",
       "</style>\n",
       "<table border=\"1\" class=\"dataframe\">\n",
       "  <thead>\n",
       "    <tr style=\"text-align: right;\">\n",
       "      <th></th>\n",
       "      <th>Student_ID</th>\n",
       "      <th>Gender</th>\n",
       "      <th>Math_Score</th>\n",
       "      <th>English_Score</th>\n",
       "      <th>Science_Score</th>\n",
       "      <th>Attendance</th>\n",
       "    </tr>\n",
       "  </thead>\n",
       "  <tbody>\n",
       "    <tr>\n",
       "      <th>0</th>\n",
       "      <td>S1001</td>\n",
       "      <td>Female</td>\n",
       "      <td>79.967142</td>\n",
       "      <td>86.792265</td>\n",
       "      <td>72.598574</td>\n",
       "      <td>75.460962</td>\n",
       "    </tr>\n",
       "    <tr>\n",
       "      <th>1</th>\n",
       "      <td>S1002</td>\n",
       "      <td>Male</td>\n",
       "      <td>73.617357</td>\n",
       "      <td>81.095604</td>\n",
       "      <td>76.843851</td>\n",
       "      <td>80.698075</td>\n",
       "    </tr>\n",
       "    <tr>\n",
       "      <th>2</th>\n",
       "      <td>S1003</td>\n",
       "      <td>Female</td>\n",
       "      <td>81.476885</td>\n",
       "      <td>70.715564</td>\n",
       "      <td>71.660641</td>\n",
       "      <td>82.931972</td>\n",
       "    </tr>\n",
       "    <tr>\n",
       "      <th>3</th>\n",
       "      <td>S1004</td>\n",
       "      <td>Female</td>\n",
       "      <td>90.230299</td>\n",
       "      <td>62.236759</td>\n",
       "      <td>75.536308</td>\n",
       "      <td>94.438438</td>\n",
       "    </tr>\n",
       "    <tr>\n",
       "      <th>4</th>\n",
       "      <td>S1005</td>\n",
       "      <td>Female</td>\n",
       "      <td>72.658466</td>\n",
       "      <td>78.378680</td>\n",
       "      <td>62.851083</td>\n",
       "      <td>87.782766</td>\n",
       "    </tr>\n",
       "  </tbody>\n",
       "</table>\n",
       "</div>"
      ],
      "text/plain": [
       "  Student_ID  Gender  Math_Score  English_Score  Science_Score  Attendance\n",
       "0      S1001  Female   79.967142      86.792265      72.598574   75.460962\n",
       "1      S1002    Male   73.617357      81.095604      76.843851   80.698075\n",
       "2      S1003  Female   81.476885      70.715564      71.660641   82.931972\n",
       "3      S1004  Female   90.230299      62.236759      75.536308   94.438438\n",
       "4      S1005  Female   72.658466      78.378680      62.851083   87.782766"
      ]
     },
     "execution_count": 75,
     "metadata": {},
     "output_type": "execute_result"
    }
   ],
   "source": [
    "df.head()"
   ]
  },
  {
   "cell_type": "code",
   "execution_count": 77,
   "id": "cae178c1-2bc4-44cd-a031-e672e27a2636",
   "metadata": {},
   "outputs": [
    {
     "data": {
      "text/html": [
       "<div>\n",
       "<style scoped>\n",
       "    .dataframe tbody tr th:only-of-type {\n",
       "        vertical-align: middle;\n",
       "    }\n",
       "\n",
       "    .dataframe tbody tr th {\n",
       "        vertical-align: top;\n",
       "    }\n",
       "\n",
       "    .dataframe thead th {\n",
       "        text-align: right;\n",
       "    }\n",
       "</style>\n",
       "<table border=\"1\" class=\"dataframe\">\n",
       "  <thead>\n",
       "    <tr style=\"text-align: right;\">\n",
       "      <th></th>\n",
       "      <th>Student_ID</th>\n",
       "      <th>Gender</th>\n",
       "      <th>Math_Score</th>\n",
       "      <th>English_Score</th>\n",
       "      <th>Science_Score</th>\n",
       "      <th>Attendance</th>\n",
       "    </tr>\n",
       "  </thead>\n",
       "  <tbody>\n",
       "    <tr>\n",
       "      <th>1000</th>\n",
       "      <td>S2001</td>\n",
       "      <td>Male</td>\n",
       "      <td>30.000000</td>\n",
       "      <td>20.000000</td>\n",
       "      <td>25.000000</td>\n",
       "      <td>40.000000</td>\n",
       "    </tr>\n",
       "    <tr>\n",
       "      <th>1001</th>\n",
       "      <td>S2002</td>\n",
       "      <td>Male</td>\n",
       "      <td>135.000000</td>\n",
       "      <td>125.000000</td>\n",
       "      <td>120.000000</td>\n",
       "      <td>100.000000</td>\n",
       "    </tr>\n",
       "    <tr>\n",
       "      <th>1002</th>\n",
       "      <td>S1001</td>\n",
       "      <td>Female</td>\n",
       "      <td>79.967142</td>\n",
       "      <td>86.792265</td>\n",
       "      <td>72.598574</td>\n",
       "      <td>75.460962</td>\n",
       "    </tr>\n",
       "    <tr>\n",
       "      <th>1003</th>\n",
       "      <td>S1002</td>\n",
       "      <td>Male</td>\n",
       "      <td>73.617357</td>\n",
       "      <td>81.095604</td>\n",
       "      <td>76.843851</td>\n",
       "      <td>80.698075</td>\n",
       "    </tr>\n",
       "    <tr>\n",
       "      <th>1004</th>\n",
       "      <td>S1003</td>\n",
       "      <td>Female</td>\n",
       "      <td>81.476885</td>\n",
       "      <td>70.715564</td>\n",
       "      <td>71.660641</td>\n",
       "      <td>82.931972</td>\n",
       "    </tr>\n",
       "  </tbody>\n",
       "</table>\n",
       "</div>"
      ],
      "text/plain": [
       "     Student_ID  Gender  Math_Score  English_Score  Science_Score  Attendance\n",
       "1000      S2001    Male   30.000000      20.000000      25.000000   40.000000\n",
       "1001      S2002    Male  135.000000     125.000000     120.000000  100.000000\n",
       "1002      S1001  Female   79.967142      86.792265      72.598574   75.460962\n",
       "1003      S1002    Male   73.617357      81.095604      76.843851   80.698075\n",
       "1004      S1003  Female   81.476885      70.715564      71.660641   82.931972"
      ]
     },
     "execution_count": 77,
     "metadata": {},
     "output_type": "execute_result"
    }
   ],
   "source": [
    "df.tail()"
   ]
  },
  {
   "cell_type": "code",
   "execution_count": 79,
   "id": "9d4e01b2-22d3-4e57-ae3a-a6e84ac43f1c",
   "metadata": {},
   "outputs": [
    {
     "data": {
      "text/plain": [
       "<bound method NDFrame.describe of      Student_ID  Gender  Math_Score  English_Score  Science_Score  Attendance\n",
       "0         S1001  Female   79.967142      86.792265      72.598574   75.460962\n",
       "1         S1002    Male   73.617357      81.095604      76.843851   80.698075\n",
       "2         S1003  Female   81.476885      70.715564      71.660641   82.931972\n",
       "3         S1004  Female   90.230299      62.236759      75.536308   94.438438\n",
       "4         S1005  Female   72.658466      78.378680      62.851083   87.782766\n",
       "...         ...     ...         ...            ...            ...         ...\n",
       "1000      S2001    Male   30.000000      20.000000      25.000000   40.000000\n",
       "1001      S2002    Male  135.000000     125.000000     120.000000  100.000000\n",
       "1002      S1001  Female   79.967142      86.792265      72.598574   75.460962\n",
       "1003      S1002    Male   73.617357      81.095604      76.843851   80.698075\n",
       "1004      S1003  Female   81.476885      70.715564      71.660641   82.931972\n",
       "\n",
       "[1005 rows x 6 columns]>"
      ]
     },
     "execution_count": 79,
     "metadata": {},
     "output_type": "execute_result"
    }
   ],
   "source": [
    "df.describe"
   ]
  },
  {
   "cell_type": "code",
   "execution_count": 81,
   "id": "b41fa11f-a08a-458a-a358-0011a0733488",
   "metadata": {},
   "outputs": [
    {
     "data": {
      "text/plain": [
       "Index(['Student_ID', 'Gender', 'Math_Score', 'English_Score', 'Science_Score',\n",
       "       'Attendance'],\n",
       "      dtype='object')"
      ]
     },
     "execution_count": 81,
     "metadata": {},
     "output_type": "execute_result"
    }
   ],
   "source": [
    "df.columns"
   ]
  },
  {
   "cell_type": "code",
   "execution_count": 83,
   "id": "9e3cd2c7-ad61-489e-ac68-b69728c01721",
   "metadata": {},
   "outputs": [
    {
     "data": {
      "text/plain": [
       "(1005, 6)"
      ]
     },
     "execution_count": 83,
     "metadata": {},
     "output_type": "execute_result"
    }
   ],
   "source": [
    "df.shape"
   ]
  },
  {
   "cell_type": "code",
   "execution_count": 85,
   "id": "ce8a0f3f-a7fc-4c78-b07d-41d8b40b3ffe",
   "metadata": {},
   "outputs": [
    {
     "data": {
      "text/plain": [
       "Student_ID       0\n",
       "Gender           0\n",
       "Math_Score       1\n",
       "English_Score    1\n",
       "Science_Score    1\n",
       "Attendance       1\n",
       "dtype: int64"
      ]
     },
     "execution_count": 85,
     "metadata": {},
     "output_type": "execute_result"
    }
   ],
   "source": [
    "df.isnull().sum()"
   ]
  },
  {
   "cell_type": "code",
   "execution_count": 87,
   "id": "c1a85448-e33a-4861-a3e3-3dbc2d508f23",
   "metadata": {},
   "outputs": [],
   "source": [
    "df[\"Math_Score\"] = df[\"Math_Score\"].fillna(df[\"Math_Score\"].median())"
   ]
  },
  {
   "cell_type": "code",
   "execution_count": 89,
   "id": "5aeb0b11-c2ab-4967-aab7-a7bec2d17cf4",
   "metadata": {},
   "outputs": [],
   "source": [
    "df[\"English_Score\"] = df[\"English_Score\"].fillna(df[\"English_Score\"].median())"
   ]
  },
  {
   "cell_type": "code",
   "execution_count": 91,
   "id": "c63f0308-c424-4c72-a58d-2d95d14c2d50",
   "metadata": {},
   "outputs": [],
   "source": [
    "df[\"Science_Score\"] = df[\"Science_Score\"].fillna(df[\"Science_Score\"].median())"
   ]
  },
  {
   "cell_type": "code",
   "execution_count": 93,
   "id": "ad4e283c-dbff-470d-ac2d-5bd0dfeef029",
   "metadata": {},
   "outputs": [],
   "source": [
    "df[\"Attendance\"] = df[\"Attendance\"].fillna(df[\"Attendance\"].median())"
   ]
  },
  {
   "cell_type": "code",
   "execution_count": 95,
   "id": "35b775e1-10fc-4eb7-9b43-fe719395827b",
   "metadata": {},
   "outputs": [
    {
     "data": {
      "text/plain": [
       "Student_ID       0\n",
       "Gender           0\n",
       "Math_Score       0\n",
       "English_Score    0\n",
       "Science_Score    0\n",
       "Attendance       0\n",
       "dtype: int64"
      ]
     },
     "execution_count": 95,
     "metadata": {},
     "output_type": "execute_result"
    }
   ],
   "source": [
    "df.isnull().sum()"
   ]
  },
  {
   "cell_type": "code",
   "execution_count": 97,
   "id": "278e8464-e02b-4523-a6f4-705cfdf4f08a",
   "metadata": {},
   "outputs": [],
   "source": [
    "import matplotlib.pyplot as plt\n",
    "import seaborn as sns "
   ]
  },
  {
   "cell_type": "code",
   "execution_count": 99,
   "id": "e5294987-8b67-4d19-947b-86c16de6bf99",
   "metadata": {},
   "outputs": [],
   "source": [
    "numeric_cols=df.select_dtypes(include=\"number\").columns"
   ]
  },
  {
   "cell_type": "code",
   "execution_count": 101,
   "id": "5141a2c2-83ce-4b51-b487-5a4f3fc4305a",
   "metadata": {},
   "outputs": [
    {
     "data": {
      "text/plain": [
       "<Axes: xlabel='Math_Score', ylabel='Count'>"
      ]
     },
     "execution_count": 101,
     "metadata": {},
     "output_type": "execute_result"
    },
    {
     "data": {
      "image/png": "[encoded data removed]",
      "text/plain": [
       "<Figure size 640x480 with 1 Axes>"
      ]
     },
     "metadata": {},
     "output_type": "display_data"
    }
   ],
   "source": [
    "sns.histplot(df[\"Math_Score\"],bins=20,kde=True,color=\"green\")"
   ]
  },
  {
   "cell_type": "code",
   "execution_count": 103,
   "id": "a022afa0-7a75-404f-89c2-05838687fd3b",
   "metadata": {},
   "outputs": [
    {
     "data": {
      "text/plain": [
       "<Axes: xlabel='English_Score', ylabel='Count'>"
      ]
     },
     "execution_count": 103,
     "metadata": {},
     "output_type": "execute_result"
    },
    {
     "data": {
      "image/png": "[encoded data removed]",
      "text/plain": [
       "<Figure size 640x480 with 1 Axes>"
      ]
     },
     "metadata": {},
     "output_type": "display_data"
    }
   ],
   "source": [
    "sns.histplot(df[\"English_Score\"],bins=20,kde=True,color=\"blue\")"
   ]
  },
  {
   "cell_type": "code",
   "execution_count": 105,
   "id": "5643c199-533a-4240-b8de-72d8fab44d42",
   "metadata": {},
   "outputs": [
    {
     "data": {
      "text/plain": [
       "<Axes: xlabel='Science_Score', ylabel='Count'>"
      ]
     },
     "execution_count": 105,
     "metadata": {},
     "output_type": "execute_result"
    },
    {
     "data": {
      "image/png": "[encoded data removed]",
      "text/plain": [
       "<Figure size 640x480 with 1 Axes>"
      ]
     },
     "metadata": {},
     "output_type": "display_data"
    }
   ],
   "source": [
    "sns.histplot(df[\"Science_Score\"],bins=20,kde=True,color=\"pink\")"
   ]
  },
  {
   "cell_type": "code",
   "execution_count": 107,
   "id": "ed385ee9-d821-4812-af0a-f684950186e7",
   "metadata": {},
   "outputs": [
    {
     "data": {
      "text/plain": [
       "<Axes: xlabel='Attendance', ylabel='Count'>"
      ]
     },
     "execution_count": 107,
     "metadata": {},
     "output_type": "execute_result"
    },
    {
     "data": {
      "image/png": "[encoded data removed]",
      "text/plain": [
       "<Figure size 640x480 with 1 Axes>"
      ]
     },
     "metadata": {},
     "output_type": "display_data"
    }
   ],
   "source": [
    "sns.histplot(df[\"Attendance\"],bins=20,kde=True,color=\"red\")"
   ]
  },
  {
   "cell_type": "code",
   "execution_count": 114,
   "id": "b84e6e8b-472e-41e4-af26-48e390bec68d",
   "metadata": {},
   "outputs": [],
   "source": [
    "from scipy.stats import zscore\n",
    "z_scores = df[['Math_Score','English_Score','Science_Score','Attendance']].apply(zscore)\n"
   ]
  },
  {
   "cell_type": "code",
   "execution_count": 116,
   "id": "80090e3d-ea9a-4ee8-8551-8f4232c845f9",
   "metadata": {},
   "outputs": [
    {
     "data": {
      "text/html": [
       "<div>\n",
       "<style scoped>\n",
       "    .dataframe tbody tr th:only-of-type {\n",
       "        vertical-align: middle;\n",
       "    }\n",
       "\n",
       "    .dataframe tbody tr th {\n",
       "        vertical-align: top;\n",
       "    }\n",
       "\n",
       "    .dataframe thead th {\n",
       "        text-align: right;\n",
       "    }\n",
       "</style>\n",
       "<table border=\"1\" class=\"dataframe\">\n",
       "  <thead>\n",
       "    <tr style=\"text-align: right;\">\n",
       "      <th></th>\n",
       "      <th>Math_Score</th>\n",
       "      <th>English_Score</th>\n",
       "      <th>Science_Score</th>\n",
       "      <th>Attendance</th>\n",
       "    </tr>\n",
       "  </thead>\n",
       "  <tbody>\n",
       "    <tr>\n",
       "      <th>0</th>\n",
       "      <td>0.472457</td>\n",
       "      <td>1.307039</td>\n",
       "      <td>-0.666715</td>\n",
       "      <td>-1.758755</td>\n",
       "    </tr>\n",
       "    <tr>\n",
       "      <th>1</th>\n",
       "      <td>-0.159487</td>\n",
       "      <td>0.839183</td>\n",
       "      <td>-0.144751</td>\n",
       "      <td>-0.778672</td>\n",
       "    </tr>\n",
       "    <tr>\n",
       "      <th>2</th>\n",
       "      <td>0.622710</td>\n",
       "      <td>-0.013310</td>\n",
       "      <td>-0.782035</td>\n",
       "      <td>-0.360617</td>\n",
       "    </tr>\n",
       "    <tr>\n",
       "      <th>3</th>\n",
       "      <td>1.493868</td>\n",
       "      <td>-0.709659</td>\n",
       "      <td>-0.305516</td>\n",
       "      <td>1.792724</td>\n",
       "    </tr>\n",
       "    <tr>\n",
       "      <th>4</th>\n",
       "      <td>-0.254918</td>\n",
       "      <td>0.616047</td>\n",
       "      <td>-1.865184</td>\n",
       "      <td>0.547170</td>\n",
       "    </tr>\n",
       "    <tr>\n",
       "      <th>...</th>\n",
       "      <td>...</td>\n",
       "      <td>...</td>\n",
       "      <td>...</td>\n",
       "      <td>...</td>\n",
       "    </tr>\n",
       "    <tr>\n",
       "      <th>1000</th>\n",
       "      <td>-4.500381</td>\n",
       "      <td>-4.178486</td>\n",
       "      <td>-6.519035</td>\n",
       "      <td>-8.394983</td>\n",
       "    </tr>\n",
       "    <tr>\n",
       "      <th>1001</th>\n",
       "      <td>5.949445</td>\n",
       "      <td>4.444970</td>\n",
       "      <td>5.161366</td>\n",
       "      <td>2.833525</td>\n",
       "    </tr>\n",
       "    <tr>\n",
       "      <th>1002</th>\n",
       "      <td>0.472457</td>\n",
       "      <td>1.307039</td>\n",
       "      <td>-0.666715</td>\n",
       "      <td>-1.758755</td>\n",
       "    </tr>\n",
       "    <tr>\n",
       "      <th>1003</th>\n",
       "      <td>-0.159487</td>\n",
       "      <td>0.839183</td>\n",
       "      <td>-0.144751</td>\n",
       "      <td>-0.778672</td>\n",
       "    </tr>\n",
       "    <tr>\n",
       "      <th>1004</th>\n",
       "      <td>0.622710</td>\n",
       "      <td>-0.013310</td>\n",
       "      <td>-0.782035</td>\n",
       "      <td>-0.360617</td>\n",
       "    </tr>\n",
       "  </tbody>\n",
       "</table>\n",
       "<p>1005 rows × 4 columns</p>\n",
       "</div>"
      ],
      "text/plain": [
       "      Math_Score  English_Score  Science_Score  Attendance\n",
       "0       0.472457       1.307039      -0.666715   -1.758755\n",
       "1      -0.159487       0.839183      -0.144751   -0.778672\n",
       "2       0.622710      -0.013310      -0.782035   -0.360617\n",
       "3       1.493868      -0.709659      -0.305516    1.792724\n",
       "4      -0.254918       0.616047      -1.865184    0.547170\n",
       "...          ...            ...            ...         ...\n",
       "1000   -4.500381      -4.178486      -6.519035   -8.394983\n",
       "1001    5.949445       4.444970       5.161366    2.833525\n",
       "1002    0.472457       1.307039      -0.666715   -1.758755\n",
       "1003   -0.159487       0.839183      -0.144751   -0.778672\n",
       "1004    0.622710      -0.013310      -0.782035   -0.360617\n",
       "\n",
       "[1005 rows x 4 columns]"
      ]
     },
     "execution_count": 116,
     "metadata": {},
     "output_type": "execute_result"
    }
   ],
   "source": [
    "z_scores"
   ]
  },
  {
   "cell_type": "code",
   "execution_count": 120,
   "id": "45d6eae1-56d4-4669-b7c5-d093ec962bdc",
   "metadata": {},
   "outputs": [],
   "source": [
    "outliers=(z_scores < -3) | (z_scores > 3)"
   ]
  },
  {
   "cell_type": "code",
   "execution_count": 124,
   "id": "28b77df9-4554-47e0-8875-9dfba9f1b63e",
   "metadata": {},
   "outputs": [],
   "source": [
    "total_outliers=outliers.sum()"
   ]
  },
  {
   "cell_type": "code",
   "execution_count": 128,
   "id": "61b4aacc-8346-4f52-abaf-ce4f3839b8ee",
   "metadata": {},
   "outputs": [
    {
     "data": {
      "text/plain": [
       "Math_Score       5\n",
       "English_Score    4\n",
       "Science_Score    4\n",
       "Attendance       2\n",
       "dtype: int64"
      ]
     },
     "execution_count": 128,
     "metadata": {},
     "output_type": "execute_result"
    }
   ],
   "source": [
    "total_outliers"
   ]
  },
  {
   "cell_type": "code",
   "execution_count": 1,
   "id": "df8a4e6a-e7ed-4a27-8d69-ed06767e4bad",
   "metadata": {},
   "outputs": [],
   "source": [
    "import pandas as pd"
   ]
  },
  {
   "cell_type": "code",
   "execution_count": 3,
   "id": "1faa4d56-ab27-472c-b20c-cffae8378c4e",
   "metadata": {},
   "outputs": [],
   "source": [
    "df = pd.read_csv(\"mark_sheet_dataset.csv\")"
   ]
  },
  {
   "cell_type": "code",
   "execution_count": 5,
   "id": "17b76dd5-bd1a-493b-adda-e4f1d729e46c",
   "metadata": {},
   "outputs": [
    {
     "data": {
      "text/html": [
       "<div>\n",
       "<style scoped>\n",
       "    .dataframe tbody tr th:only-of-type {\n",
       "        vertical-align: middle;\n",
       "    }\n",
       "\n",
       "    .dataframe tbody tr th {\n",
       "        vertical-align: top;\n",
       "    }\n",
       "\n",
       "    .dataframe thead th {\n",
       "        text-align: right;\n",
       "    }\n",
       "</style>\n",
       "<table border=\"1\" class=\"dataframe\">\n",
       "  <thead>\n",
       "    <tr style=\"text-align: right;\">\n",
       "      <th></th>\n",
       "      <th>Student_ID</th>\n",
       "      <th>Gender</th>\n",
       "      <th>Math_Score</th>\n",
       "      <th>English_Score</th>\n",
       "      <th>Science_Score</th>\n",
       "      <th>Attendance</th>\n",
       "    </tr>\n",
       "  </thead>\n",
       "  <tbody>\n",
       "    <tr>\n",
       "      <th>0</th>\n",
       "      <td>S1001</td>\n",
       "      <td>Female</td>\n",
       "      <td>79.967142</td>\n",
       "      <td>86.792265</td>\n",
       "      <td>72.598574</td>\n",
       "      <td>75.460962</td>\n",
       "    </tr>\n",
       "    <tr>\n",
       "      <th>1</th>\n",
       "      <td>S1002</td>\n",
       "      <td>Male</td>\n",
       "      <td>73.617357</td>\n",
       "      <td>81.095604</td>\n",
       "      <td>76.843851</td>\n",
       "      <td>80.698075</td>\n",
       "    </tr>\n",
       "    <tr>\n",
       "      <th>2</th>\n",
       "      <td>S1003</td>\n",
       "      <td>Female</td>\n",
       "      <td>81.476885</td>\n",
       "      <td>70.715564</td>\n",
       "      <td>71.660641</td>\n",
       "      <td>82.931972</td>\n",
       "    </tr>\n",
       "    <tr>\n",
       "      <th>3</th>\n",
       "      <td>S1004</td>\n",
       "      <td>Female</td>\n",
       "      <td>90.230299</td>\n",
       "      <td>62.236759</td>\n",
       "      <td>75.536308</td>\n",
       "      <td>94.438438</td>\n",
       "    </tr>\n",
       "    <tr>\n",
       "      <th>4</th>\n",
       "      <td>S1005</td>\n",
       "      <td>Female</td>\n",
       "      <td>72.658466</td>\n",
       "      <td>78.378680</td>\n",
       "      <td>62.851083</td>\n",
       "      <td>87.782766</td>\n",
       "    </tr>\n",
       "    <tr>\n",
       "      <th>...</th>\n",
       "      <td>...</td>\n",
       "      <td>...</td>\n",
       "      <td>...</td>\n",
       "      <td>...</td>\n",
       "      <td>...</td>\n",
       "      <td>...</td>\n",
       "    </tr>\n",
       "    <tr>\n",
       "      <th>1000</th>\n",
       "      <td>S2001</td>\n",
       "      <td>Male</td>\n",
       "      <td>30.000000</td>\n",
       "      <td>20.000000</td>\n",
       "      <td>25.000000</td>\n",
       "      <td>40.000000</td>\n",
       "    </tr>\n",
       "    <tr>\n",
       "      <th>1001</th>\n",
       "      <td>S2002</td>\n",
       "      <td>Male</td>\n",
       "      <td>135.000000</td>\n",
       "      <td>125.000000</td>\n",
       "      <td>120.000000</td>\n",
       "      <td>100.000000</td>\n",
       "    </tr>\n",
       "    <tr>\n",
       "      <th>1002</th>\n",
       "      <td>S1001</td>\n",
       "      <td>Female</td>\n",
       "      <td>79.967142</td>\n",
       "      <td>86.792265</td>\n",
       "      <td>72.598574</td>\n",
       "      <td>75.460962</td>\n",
       "    </tr>\n",
       "    <tr>\n",
       "      <th>1003</th>\n",
       "      <td>S1002</td>\n",
       "      <td>Male</td>\n",
       "      <td>73.617357</td>\n",
       "      <td>81.095604</td>\n",
       "      <td>76.843851</td>\n",
       "      <td>80.698075</td>\n",
       "    </tr>\n",
       "    <tr>\n",
       "      <th>1004</th>\n",
       "      <td>S1003</td>\n",
       "      <td>Female</td>\n",
       "      <td>81.476885</td>\n",
       "      <td>70.715564</td>\n",
       "      <td>71.660641</td>\n",
       "      <td>82.931972</td>\n",
       "    </tr>\n",
       "  </tbody>\n",
       "</table>\n",
       "<p>1005 rows × 6 columns</p>\n",
       "</div>"
      ],
      "text/plain": [
       "     Student_ID  Gender  Math_Score  English_Score  Science_Score  Attendance\n",
       "0         S1001  Female   79.967142      86.792265      72.598574   75.460962\n",
       "1         S1002    Male   73.617357      81.095604      76.843851   80.698075\n",
       "2         S1003  Female   81.476885      70.715564      71.660641   82.931972\n",
       "3         S1004  Female   90.230299      62.236759      75.536308   94.438438\n",
       "4         S1005  Female   72.658466      78.378680      62.851083   87.782766\n",
       "...         ...     ...         ...            ...            ...         ...\n",
       "1000      S2001    Male   30.000000      20.000000      25.000000   40.000000\n",
       "1001      S2002    Male  135.000000     125.000000     120.000000  100.000000\n",
       "1002      S1001  Female   79.967142      86.792265      72.598574   75.460962\n",
       "1003      S1002    Male   73.617357      81.095604      76.843851   80.698075\n",
       "1004      S1003  Female   81.476885      70.715564      71.660641   82.931972\n",
       "\n",
       "[1005 rows x 6 columns]"
      ]
     },
     "execution_count": 5,
     "metadata": {},
     "output_type": "execute_result"
    }
   ],
   "source": [
    "df"
   ]
  },
  {
   "cell_type": "code",
   "execution_count": 7,
   "id": "5022b368-578d-4da3-8211-b940316f706f",
   "metadata": {},
   "outputs": [
    {
     "data": {
      "text/plain": [
       "Index(['Student_ID', 'Gender', 'Math_Score', 'English_Score', 'Science_Score',\n",
       "       'Attendance'],\n",
       "      dtype='object')"
      ]
     },
     "execution_count": 7,
     "metadata": {},
     "output_type": "execute_result"
    }
   ],
   "source": [
    "df.columns"
   ]
  },
  {
   "cell_type": "code",
   "execution_count": 9,
   "id": "a79215af-2268-4382-9b22-f00cabf7f0be",
   "metadata": {},
   "outputs": [],
   "source": [
    "numeric_cols = ['Math_Score', 'English_Score', 'Science_Score',\n",
    "       ]\n",
    "original_stats = {}"
   ]
  },
  {
   "cell_type": "code",
   "execution_count": 11,
   "id": "f9b10c68-0aad-4895-bcde-04ed7cdd98a0",
   "metadata": {},
   "outputs": [
    {
     "name": "stdout",
     "output_type": "stream",
     "text": [
      "clipped values in Math_Score\n",
      "clipped values in English_Score\n",
      "clipped values in Science_Score\n"
     ]
    }
   ],
   "source": [
    "for col in numeric_cols:\n",
    "    mean_val = df[col].mean()\n",
    "    df[col] =df[col].fillna(mean_val)\n",
    "    std_val = df[col].std()\n",
    "    original_stats[col] = (mean_val,std_val)\n",
    "    df[col] = df[col].clip(lower = mean_val - 3 * std_val , upper = mean_val + 3 * std_val)\n",
    "    print(f\"clipped values in {col}\")"
   ]
  },
  {
   "cell_type": "code",
   "execution_count": 13,
   "id": "2cfeb439-8b50-4f99-aac8-72802cfbcb5b",
   "metadata": {},
   "outputs": [
    {
     "name": "stdout",
     "output_type": "stream",
     "text": [
      "outliers is 0 in Math_Score\n",
      "outliers is 0 in English_Score\n",
      "outliers is 0 in Science_Score\n"
     ]
    }
   ],
   "source": [
    "for col in numeric_cols:\n",
    "    mean_val = df[col].mean()\n",
    "    std_val = df[col].std()\n",
    "    mean_val , std_val = original_stats[col]\n",
    "    lower_bound = mean_val - 3 * std_val\n",
    "    upper_bound = mean_val + 3 * std_val\n",
    "    outliers_remaining = df[(df[col] < lower_bound) | (df[col] > upper_bound)].shape[0]\n",
    "    if outliers_remaining == 0:\n",
    "       print(f\"outliers is {outliers_remaining} in {col}\")\n",
    "    else:\n",
    "        print(\"outliers are there\")"
   ]
  },
  {
   "cell_type": "code",
   "execution_count": 15,
   "id": "ee5632c9-8f1c-44ac-a2f6-6c44b2636435",
   "metadata": {},
   "outputs": [
    {
     "name": "stdout",
     "output_type": "stream",
     "text": [
      "outliers is 0 in Math_Score\n",
      "outliers is 0 in English_Score\n",
      "outliers is 0 in Science_Score\n"
     ]
    }
   ],
   "source": [
    "for col in numeric_cols:\n",
    "    mean_val , std_val = original_stats[col]\n",
    "    lower_bound = mean_val - 3 * std_val\n",
    "    upper_bound = mean_val + 3 * std_val\n",
    "    outliers_remaining = df[(df[col] < lower_bound) | (df[col] > upper_bound)].shape[0]\n",
    "    print(f\"outliers is {outliers_remaining} in {col}\")\n",
    "    "
   ]
  },
  {
   "cell_type": "code",
   "execution_count": 17,
   "id": "a198b9f5-e99d-432a-b912-5a192f67aad7",
   "metadata": {},
   "outputs": [],
   "source": [
    "df = pd.read_csv(\"mark_sheet_dataset.csv\")"
   ]
  },
  {
   "cell_type": "code",
   "execution_count": 19,
   "id": "ad9f4c8d-a332-446e-937f-c84e9f326331",
   "metadata": {},
   "outputs": [
    {
     "data": {
      "text/html": [
       "<div>\n",
       "<style scoped>\n",
       "    .dataframe tbody tr th:only-of-type {\n",
       "        vertical-align: middle;\n",
       "    }\n",
       "\n",
       "    .dataframe tbody tr th {\n",
       "        vertical-align: top;\n",
       "    }\n",
       "\n",
       "    .dataframe thead th {\n",
       "        text-align: right;\n",
       "    }\n",
       "</style>\n",
       "<table border=\"1\" class=\"dataframe\">\n",
       "  <thead>\n",
       "    <tr style=\"text-align: right;\">\n",
       "      <th></th>\n",
       "      <th>Student_ID</th>\n",
       "      <th>Gender</th>\n",
       "      <th>Math_Score</th>\n",
       "      <th>English_Score</th>\n",
       "      <th>Science_Score</th>\n",
       "      <th>Attendance</th>\n",
       "    </tr>\n",
       "  </thead>\n",
       "  <tbody>\n",
       "    <tr>\n",
       "      <th>5</th>\n",
       "      <td>S1006</td>\n",
       "      <td>Male</td>\n",
       "      <td>NaN</td>\n",
       "      <td>74.721825</td>\n",
       "      <td>79.706350</td>\n",
       "      <td>78.322592</td>\n",
       "    </tr>\n",
       "    <tr>\n",
       "      <th>15</th>\n",
       "      <td>S1016</td>\n",
       "      <td>Female</td>\n",
       "      <td>69.377125</td>\n",
       "      <td>NaN</td>\n",
       "      <td>76.449391</td>\n",
       "      <td>90.191894</td>\n",
       "    </tr>\n",
       "    <tr>\n",
       "      <th>25</th>\n",
       "      <td>S1026</td>\n",
       "      <td>Female</td>\n",
       "      <td>76.109226</td>\n",
       "      <td>75.235884</td>\n",
       "      <td>NaN</td>\n",
       "      <td>83.057396</td>\n",
       "    </tr>\n",
       "    <tr>\n",
       "      <th>35</th>\n",
       "      <td>S1036</td>\n",
       "      <td>Male</td>\n",
       "      <td>62.791564</td>\n",
       "      <td>88.887841</td>\n",
       "      <td>100.077280</td>\n",
       "      <td>NaN</td>\n",
       "    </tr>\n",
       "  </tbody>\n",
       "</table>\n",
       "</div>"
      ],
      "text/plain": [
       "   Student_ID  Gender  Math_Score  English_Score  Science_Score  Attendance\n",
       "5       S1006    Male         NaN      74.721825      79.706350   78.322592\n",
       "15      S1016  Female   69.377125            NaN      76.449391   90.191894\n",
       "25      S1026  Female   76.109226      75.235884            NaN   83.057396\n",
       "35      S1036    Male   62.791564      88.887841     100.077280         NaN"
      ]
     },
     "execution_count": 19,
     "metadata": {},
     "output_type": "execute_result"
    }
   ],
   "source": [
    "df[df.isnull().any(axis=1)]"
   ]
  },
  {
   "cell_type": "code",
   "execution_count": 21,
   "id": "949b811f-7144-490b-8301-31227255ae6c",
   "metadata": {},
   "outputs": [
    {
     "data": {
      "text/html": [
       "<div>\n",
       "<style scoped>\n",
       "    .dataframe tbody tr th:only-of-type {\n",
       "        vertical-align: middle;\n",
       "    }\n",
       "\n",
       "    .dataframe tbody tr th {\n",
       "        vertical-align: top;\n",
       "    }\n",
       "\n",
       "    .dataframe thead th {\n",
       "        text-align: right;\n",
       "    }\n",
       "</style>\n",
       "<table border=\"1\" class=\"dataframe\">\n",
       "  <thead>\n",
       "    <tr style=\"text-align: right;\">\n",
       "      <th></th>\n",
       "      <th>Student_ID</th>\n",
       "      <th>Gender</th>\n",
       "      <th>Math_Score</th>\n",
       "      <th>English_Score</th>\n",
       "      <th>Science_Score</th>\n",
       "      <th>Attendance</th>\n",
       "    </tr>\n",
       "  </thead>\n",
       "  <tbody>\n",
       "    <tr>\n",
       "      <th>5</th>\n",
       "      <td>S1006</td>\n",
       "      <td>Male</td>\n",
       "      <td>NaN</td>\n",
       "      <td>74.721825</td>\n",
       "      <td>79.70635</td>\n",
       "      <td>78.322592</td>\n",
       "    </tr>\n",
       "  </tbody>\n",
       "</table>\n",
       "</div>"
      ],
      "text/plain": [
       "  Student_ID Gender  Math_Score  English_Score  Science_Score  Attendance\n",
       "5      S1006   Male         NaN      74.721825       79.70635   78.322592"
      ]
     },
     "execution_count": 21,
     "metadata": {},
     "output_type": "execute_result"
    }
   ],
   "source": [
    "df[df['Math_Score'].isnull()]"
   ]
  },
  {
   "cell_type": "code",
   "execution_count": 23,
   "id": "8923bb64-a1de-45a4-8630-42b437293fc2",
   "metadata": {},
   "outputs": [
    {
     "data": {
      "text/html": [
       "<div>\n",
       "<style scoped>\n",
       "    .dataframe tbody tr th:only-of-type {\n",
       "        vertical-align: middle;\n",
       "    }\n",
       "\n",
       "    .dataframe tbody tr th {\n",
       "        vertical-align: top;\n",
       "    }\n",
       "\n",
       "    .dataframe thead th {\n",
       "        text-align: right;\n",
       "    }\n",
       "</style>\n",
       "<table border=\"1\" class=\"dataframe\">\n",
       "  <thead>\n",
       "    <tr style=\"text-align: right;\">\n",
       "      <th></th>\n",
       "      <th>Student_ID</th>\n",
       "      <th>Gender</th>\n",
       "      <th>Math_Score</th>\n",
       "      <th>English_Score</th>\n",
       "      <th>Science_Score</th>\n",
       "      <th>Attendance</th>\n",
       "    </tr>\n",
       "  </thead>\n",
       "  <tbody>\n",
       "    <tr>\n",
       "      <th>15</th>\n",
       "      <td>S1016</td>\n",
       "      <td>Female</td>\n",
       "      <td>69.377125</td>\n",
       "      <td>NaN</td>\n",
       "      <td>76.449391</td>\n",
       "      <td>90.191894</td>\n",
       "    </tr>\n",
       "  </tbody>\n",
       "</table>\n",
       "</div>"
      ],
      "text/plain": [
       "   Student_ID  Gender  Math_Score  English_Score  Science_Score  Attendance\n",
       "15      S1016  Female   69.377125            NaN      76.449391   90.191894"
      ]
     },
     "execution_count": 23,
     "metadata": {},
     "output_type": "execute_result"
    }
   ],
   "source": [
    "df[df['English_Score'].isnull()]"
   ]
  },
  {
   "cell_type": "code",
   "execution_count": 25,
   "id": "69fc1a48-7812-45cb-bebe-bb3ae6917bbc",
   "metadata": {},
   "outputs": [
    {
     "data": {
      "text/html": [
       "<div>\n",
       "<style scoped>\n",
       "    .dataframe tbody tr th:only-of-type {\n",
       "        vertical-align: middle;\n",
       "    }\n",
       "\n",
       "    .dataframe tbody tr th {\n",
       "        vertical-align: top;\n",
       "    }\n",
       "\n",
       "    .dataframe thead th {\n",
       "        text-align: right;\n",
       "    }\n",
       "</style>\n",
       "<table border=\"1\" class=\"dataframe\">\n",
       "  <thead>\n",
       "    <tr style=\"text-align: right;\">\n",
       "      <th></th>\n",
       "      <th>Student_ID</th>\n",
       "      <th>Gender</th>\n",
       "      <th>Math_Score</th>\n",
       "      <th>English_Score</th>\n",
       "      <th>Science_Score</th>\n",
       "      <th>Attendance</th>\n",
       "    </tr>\n",
       "  </thead>\n",
       "  <tbody>\n",
       "    <tr>\n",
       "      <th>25</th>\n",
       "      <td>S1026</td>\n",
       "      <td>Female</td>\n",
       "      <td>76.109226</td>\n",
       "      <td>75.235884</td>\n",
       "      <td>NaN</td>\n",
       "      <td>83.057396</td>\n",
       "    </tr>\n",
       "  </tbody>\n",
       "</table>\n",
       "</div>"
      ],
      "text/plain": [
       "   Student_ID  Gender  Math_Score  English_Score  Science_Score  Attendance\n",
       "25      S1026  Female   76.109226      75.235884            NaN   83.057396"
      ]
     },
     "execution_count": 25,
     "metadata": {},
     "output_type": "execute_result"
    }
   ],
   "source": [
    "df[df['Science_Score'].isnull()]"
   ]
  },
  {
   "cell_type": "code",
   "execution_count": 27,
   "id": "3115bd6b-3aa8-4356-bac3-753dbcc9f351",
   "metadata": {},
   "outputs": [
    {
     "data": {
      "text/html": [
       "<div>\n",
       "<style scoped>\n",
       "    .dataframe tbody tr th:only-of-type {\n",
       "        vertical-align: middle;\n",
       "    }\n",
       "\n",
       "    .dataframe tbody tr th {\n",
       "        vertical-align: top;\n",
       "    }\n",
       "\n",
       "    .dataframe thead th {\n",
       "        text-align: right;\n",
       "    }\n",
       "</style>\n",
       "<table border=\"1\" class=\"dataframe\">\n",
       "  <thead>\n",
       "    <tr style=\"text-align: right;\">\n",
       "      <th></th>\n",
       "      <th>Student_ID</th>\n",
       "      <th>Gender</th>\n",
       "      <th>Math_Score</th>\n",
       "      <th>English_Score</th>\n",
       "      <th>Science_Score</th>\n",
       "      <th>Attendance</th>\n",
       "    </tr>\n",
       "  </thead>\n",
       "  <tbody>\n",
       "    <tr>\n",
       "      <th>35</th>\n",
       "      <td>S1036</td>\n",
       "      <td>Male</td>\n",
       "      <td>62.791564</td>\n",
       "      <td>88.887841</td>\n",
       "      <td>100.07728</td>\n",
       "      <td>NaN</td>\n",
       "    </tr>\n",
       "  </tbody>\n",
       "</table>\n",
       "</div>"
      ],
      "text/plain": [
       "   Student_ID Gender  Math_Score  English_Score  Science_Score  Attendance\n",
       "35      S1036   Male   62.791564      88.887841      100.07728         NaN"
      ]
     },
     "execution_count": 27,
     "metadata": {},
     "output_type": "execute_result"
    }
   ],
   "source": [
    "df[df['Attendance'].isnull()]"
   ]
  },
  {
   "cell_type": "code",
   "execution_count": 29,
   "id": "668663c4-0b61-4323-b812-588a8015c83f",
   "metadata": {},
   "outputs": [],
   "source": [
    "missing_indices = df[df.isnull().any(axis=1)].index"
   ]
  },
  {
   "cell_type": "code",
   "execution_count": 31,
   "id": "445057a4-8d88-4f38-96c1-aaee13c1c6da",
   "metadata": {},
   "outputs": [
    {
     "data": {
      "text/plain": [
       "Index([5, 15, 25, 35], dtype='int64')"
      ]
     },
     "execution_count": 31,
     "metadata": {},
     "output_type": "execute_result"
    }
   ],
   "source": [
    "missing_indices"
   ]
  },
  {
   "cell_type": "code",
   "execution_count": 35,
   "id": "55ed67c5-7a7e-421a-a604-9c3f93b7b36b",
   "metadata": {},
   "outputs": [],
   "source": [
    "import seaborn as sns\n",
    "import matplotlib.pyplot as plt\n",
    "\n",
    "#corr_matrix = df.corr()\n",
    "#sns.heatmap(corr_matrix, annot=True, cmap='Pastel2')\n",
    "#plt.title(\"Correlation Matrix\")\n",
    "#plt.show()"
   ]
  },
  {
   "cell_type": "code",
   "execution_count": 37,
   "id": "1d104f25-0475-485c-b3ce-af9aa09dfd6f",
   "metadata": {},
   "outputs": [
    {
     "data": {
      "text/plain": [
       "<Figure size 1200x1400 with 0 Axes>"
      ]
     },
     "metadata": {},
     "output_type": "display_data"
    },
    {
     "data": {
      "image/png": "[encoded data removed]",
      "text/plain": [
       "<Figure size 640x480 with 1 Axes>"
      ]
     },
     "metadata": {},
     "output_type": "display_data"
    }
   ],
   "source": [
    "plt.figure(figsize=(12,14 ))\n",
    "avg_scores_by_gender = df.groupby(\"Gender\")[[\"Math_Score\", \"English_Score\", \"Science_Score\"]].mean().reset_index()\n",
    "avg_scores_by_gender.set_index(\"Gender\").plot(kind='bar')\n",
    "plt.title(\"Average Subject Scores by Gender\")\n",
    "plt.ylabel(\"Average Score\")\n",
    "plt.tight_layout()\n",
    "plt.show()\n"
   ]
  },
  {
   "cell_type": "code",
   "execution_count": null,
   "id": "cd95e481-6192-41af-a51a-99915e96ca27",
   "metadata": {},
   "outputs": [],
   "source": []
  }
 ],
 "metadata": {
  "kernelspec": {
   "display_name": "Python 3 (ipykernel)",
   "language": "python",
   "name": "python3"
  },
  "language_info": {
   "codemirror_mode": {
    "name": "ipython",
    "version": 3
   },
   "file_extension": ".py",
   "mimetype": "text/x-python",
   "name": "python",
   "nbconvert_exporter": "python",
   "pygments_lexer": "ipython3",
   "version": "3.12.4"
  }
 },
 "nbformat": 4,
 "nbformat_minor": 5
}
